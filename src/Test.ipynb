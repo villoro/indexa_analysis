{
 "cells": [
  {
   "cell_type": "code",
   "execution_count": 72,
   "metadata": {},
   "outputs": [],
   "source": [
    "df = pd.read_excel(\"../data/indexa.xlsx\")"
   ]
  },
  {
   "cell_type": "code",
   "execution_count": 84,
   "metadata": {},
   "outputs": [],
   "source": [
    "def get_color_from_name(name):\n",
    "    \"\"\" Assign color based on encoded name \"\"\"\n",
    "    colors = {\n",
    "        \"C\": {\"A\": \"yellow\", \"B\": \"light blue\", \"C\": \"light green\"},\n",
    "        \"R\": {\"A\": \"orange\", \"B\": \"blue\", \"C\": \"green\"}\n",
    "    }\n",
    "    print(name)\n",
    "    size, risk, method = name[0], name[1:-1], name[-1]\n",
    "    return get_colors((colors[method][size], max(50, (int(risk) - 1)*100)))\n",
    "\n",
    "\n",
    "def plot_evolution(df):\n",
    "    \"\"\" Plot stock evolution \"\"\"\n",
    "\n",
    "    data = []\n",
    "    for x in df.columns:\n",
    "        data.append(\n",
    "            go.Scatter(\n",
    "                x=df.index, y=df[x], name=x, marker={\"color\": get_color_from_name(x)}\n",
    "            )\n",
    "        )\n",
    "\n",
    "    return go.Figure(data=data)"
   ]
  },
  {
   "cell_type": "code",
   "execution_count": 85,
   "metadata": {},
   "outputs": [
    {
     "name": "stdout",
     "output_type": "stream",
     "text": [
      "A1R\n",
      "A2R\n",
      "A3R\n",
      "A4R\n",
      "A5R\n",
      "A6R\n",
      "A7R\n",
      "A8R\n",
      "A9R\n",
      "A10R\n",
      "B1R\n",
      "B2R\n",
      "B3R\n",
      "B4R\n",
      "B5R\n",
      "B6R\n",
      "B7R\n",
      "B8R\n",
      "B9R\n",
      "B10R\n",
      "C1R\n",
      "C2R\n",
      "C3R\n",
      "C4R\n",
      "C5R\n",
      "C6R\n",
      "C7R\n",
      "C8R\n",
      "C9R\n",
      "C10R\n",
      "A1C\n",
      "A2C\n",
      "A3C\n",
      "A4C\n",
      "A5C\n",
      "A6C\n",
      "A7C\n",
      "A8C\n",
      "A9C\n",
      "A10C\n",
      "B1C\n",
      "B2C\n",
      "B3C\n",
      "B4C\n",
      "B5C\n",
      "B6C\n",
      "B7C\n",
      "B8C\n",
      "B9C\n",
      "B10C\n",
      "C1C\n",
      "C2C\n",
      "C3C\n",
      "C4C\n",
      "C5C\n",
      "C6C\n",
      "C7C\n",
      "C8C\n",
      "C9C\n",
      "C10C\n"
     ]
    },
    {
     "data": {
      "text/plain": [
       "'file://C:\\\\PYTHON\\\\stock_analysis\\\\src\\\\temp-plot.html'"
      ]
     },
     "execution_count": 85,
     "metadata": {},
     "output_type": "execute_result"
    }
   ],
   "source": [
    "py.plot(plot_evolution(df))"
   ]
  },
  {
   "cell_type": "code",
   "execution_count": null,
   "metadata": {},
   "outputs": [],
   "source": []
  }
 ],
 "metadata": {
  "kernelspec": {
   "display_name": "Python 3",
   "language": "python",
   "name": "python3"
  },
  "language_info": {
   "codemirror_mode": {
    "name": "ipython",
    "version": 3
   },
   "file_extension": ".py",
   "mimetype": "text/x-python",
   "name": "python",
   "nbconvert_exporter": "python",
   "pygments_lexer": "ipython3",
   "version": "3.6.3"
  }
 },
 "nbformat": 4,
 "nbformat_minor": 2
}
