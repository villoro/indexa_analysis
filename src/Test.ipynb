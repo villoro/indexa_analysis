{
 "cells": [
  {
   "cell_type": "code",
   "execution_count": 56,
   "metadata": {},
   "outputs": [],
   "source": [
    "import pandas as pd\n",
    "\n",
    "from plotly.offline import plot as plot_plotly_raw\n",
    "from plotly.tools import make_subplots, FigureFactory as FF\n",
    "import plotly.graph_objs as go\n",
    "import plotly.offline as py"
   ]
  },
  {
   "cell_type": "code",
   "execution_count": 57,
   "metadata": {},
   "outputs": [],
   "source": [
    "stocks = [\"LU0188800162\", \"IE0032126645\", \"IE0007286036\", \"IE0031786696\", \"IE00B04FFJ44\", \"IE0007472990\", \"IE00B04GQR24\"]"
   ]
  },
  {
   "cell_type": "code",
   "execution_count": 90,
   "metadata": {},
   "outputs": [],
   "source": [
    "dfg = pd.DataFrame()\n",
    "\n",
    "for stock in stocks:\n",
    "    df = pd.read_excel(\"../data/data.xlsx\", sheet_name=stock, index_col=0)[[\"Close\"]]\n",
    "    df.columns = [stock]\n",
    "    \n",
    "    # Add data for all days\n",
    "    df_aux = pd.DataFrame(index=pd.date_range(df.index.min(), df.index.max()))\n",
    "    df = pd.concat([df_aux, df], axis=1).fillna(method='bfill')\n",
    "    \n",
    "    dfg = pd.concat([dfg, df], axis=1)"
   ]
  },
  {
   "cell_type": "code",
   "execution_count": 91,
   "metadata": {},
   "outputs": [],
   "source": [
    "# Make it relative\n",
    "dfg = dfg.iloc[-2, :]/dfg"
   ]
  },
  {
   "cell_type": "code",
   "execution_count": 92,
   "metadata": {},
   "outputs": [
    {
     "data": {
      "text/plain": [
       "'file://C:\\\\PYTHON\\\\stock_analysis\\\\src\\\\temp-plot.html'"
      ]
     },
     "execution_count": 92,
     "metadata": {},
     "output_type": "execute_result"
    }
   ],
   "source": [
    "data = []\n",
    "for stock in stocks:\n",
    "    data.append(go.Scatter(x=dfg.index, y=dfg[stock], name=stock))\n",
    "    \n",
    "py.plot(data)"
   ]
  },
  {
   "cell_type": "code",
   "execution_count": null,
   "metadata": {},
   "outputs": [],
   "source": []
  }
 ],
 "metadata": {
  "kernelspec": {
   "display_name": "Python 3",
   "language": "python",
   "name": "python3"
  },
  "language_info": {
   "codemirror_mode": {
    "name": "ipython",
    "version": 3
   },
   "file_extension": ".py",
   "mimetype": "text/x-python",
   "name": "python",
   "nbconvert_exporter": "python",
   "pygments_lexer": "ipython3",
   "version": "3.6.3"
  }
 },
 "nbformat": 4,
 "nbformat_minor": 2
}
