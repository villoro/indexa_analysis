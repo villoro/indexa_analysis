{
 "cells": [
  {
   "cell_type": "code",
   "execution_count": 14,
   "metadata": {},
   "outputs": [],
   "source": [
    "import pandas as pd\n",
    "\n",
    "from plotly.offline import plot as plot_plotly_raw\n",
    "from plotly.tools import make_subplots, FigureFactory as FF\n",
    "import plotly.graph_objs as go\n",
    "import plotly.offline as py"
   ]
  },
  {
   "cell_type": "code",
   "execution_count": 15,
   "metadata": {},
   "outputs": [],
   "source": [
    "df = pd.read_excel(\"../data/stocks.xlsx\", sheet_name=\"List\", index_col=1)\n",
    "stocks = df[\"Name\"].to_dict()"
   ]
  },
  {
   "cell_type": "code",
   "execution_count": 56,
   "metadata": {},
   "outputs": [],
   "source": [
    "dfg = pd.DataFrame()\n",
    "\n",
    "for stock in stocks.keys():\n",
    "    df = pd.read_excel(\"../data/data.xlsx\", sheet_name=stock, index_col=0)[[\"Close\"]]\n",
    "    df.columns = [stock]\n",
    "    \n",
    "    # Add data for all days\n",
    "    df_aux = pd.DataFrame(index=pd.date_range(df.index.min(), df.index.max()))\n",
    "    df = pd.concat([df_aux, df], axis=1).fillna(method='bfill')\n",
    "    \n",
    "    dfg = pd.concat([dfg, df], axis=1)\n",
    "    \n",
    "dfg.dropna(inplace=True)"
   ]
  },
  {
   "cell_type": "code",
   "execution_count": 146,
   "metadata": {},
   "outputs": [],
   "source": [
    "df = pd.DataFrame(dfg.index.day == 1, index=dfg.index)\n",
    "months = df[0].astype(int)"
   ]
  },
  {
   "cell_type": "code",
   "execution_count": 58,
   "metadata": {},
   "outputs": [],
   "source": [
    "dist = pd.read_excel(\"../data/stocks.xlsx\", sheet_name=\"Distribution\", index_col=0).to_dict()"
   ]
  },
  {
   "cell_type": "code",
   "execution_count": 59,
   "metadata": {},
   "outputs": [],
   "source": [
    "last_v = dfg.iloc[-1, :]"
   ]
  },
  {
   "cell_type": "code",
   "execution_count": 158,
   "metadata": {},
   "outputs": [],
   "source": [
    "dfs_1 = {}\n",
    "\n",
    "for i in range(1, 11):\n",
    "    df = dfg.copy()\n",
    "    \n",
    "    for x, perc in dist[i].items():\n",
    "        df[x] = perc*df[x]/100\n",
    "        \n",
    "    dfs_1[i] = 1/(df/last_v).sum(axis=1)"
   ]
  },
  {
   "cell_type": "code",
   "execution_count": 163,
   "metadata": {},
   "outputs": [
    {
     "data": {
      "text/plain": [
       "'file://C:\\\\PYTHON\\\\stock_analysis\\\\src\\\\temp-plot.html'"
      ]
     },
     "execution_count": 163,
     "metadata": {},
     "output_type": "execute_result"
    }
   ],
   "source": [
    "data = []\n",
    "\n",
    "for x in dfs_1:\n",
    "    data.append(go.Scatter(x=dfs_1[x].index, y=dfs_1[x], name=x))\n",
    "    \n",
    "py.plot(data)"
   ]
  },
  {
   "cell_type": "code",
   "execution_count": 177,
   "metadata": {},
   "outputs": [],
   "source": [
    "dfs_p = {}\n",
    "\n",
    "for i in range(1, 11):\n",
    "    df_inv = dfg.copy()\n",
    "    df_val =dfg.copy()\n",
    "    \n",
    "    for x, perc in dist[i].items():\n",
    "        invested = (df_inv[x]*months).sort_index(ascending=False).cumsum()\n",
    "        df_inv[x] = perc*invested.sort_index()/100\n",
    "        df_val[x] = perc*df_val[x]/100\n",
    "        \n",
    "    dfs_p[i] = (df_inv.sum(axis=1)/months.sort_index(ascending=False).cumsum())/df_val.sum(axis=1)"
   ]
  },
  {
   "cell_type": "code",
   "execution_count": 173,
   "metadata": {},
   "outputs": [
    {
     "data": {
      "text/plain": [
       "2014-03-04    1.101885\n",
       "2014-03-05    1.099219\n",
       "2014-03-06    1.103738\n",
       "2014-03-07    1.101885\n",
       "2014-03-08    1.102707\n",
       "2014-03-09    1.102707\n",
       "2014-03-10    1.102707\n",
       "2014-03-11    1.105287\n",
       "2014-03-12    1.104460\n",
       "2014-03-13    1.104357\n",
       "2014-03-14    1.104666\n",
       "2014-03-15    1.105493\n",
       "2014-03-16    1.105493\n",
       "2014-03-17    1.105493\n",
       "2014-03-18    1.105080\n",
       "2014-03-19    1.105597\n",
       "2014-03-20    1.107774\n",
       "2014-03-21    1.105597\n",
       "2014-03-22    1.105493\n",
       "2014-03-23    1.105493\n",
       "2014-03-24    1.105493\n",
       "2014-03-25    1.104666\n",
       "2014-03-26    1.101371\n",
       "2014-03-27    1.097178\n",
       "2014-03-28    1.098810\n",
       "2014-03-29    1.098402\n",
       "2014-03-30    1.098402\n",
       "2014-03-31    1.098402\n",
       "2014-04-01    1.098912\n",
       "2014-04-02    1.102111\n",
       "                ...   \n",
       "2018-08-08    0.994007\n",
       "2018-08-09    0.993681\n",
       "2018-08-10    0.994252\n",
       "2018-08-11    0.998269\n",
       "2018-08-12    0.998269\n",
       "2018-08-13    0.998269\n",
       "2018-08-14    0.997282\n",
       "2018-08-15    1.000909\n",
       "2018-08-16    0.999340\n",
       "2018-08-17    1.000248\n",
       "2018-08-18    0.996297\n",
       "2018-08-19    0.996297\n",
       "2018-08-20    0.996297\n",
       "2018-08-21    0.994334\n",
       "2018-08-22    0.996051\n",
       "2018-08-23    0.996953\n",
       "2018-08-24    0.997282\n",
       "2018-08-25    1.000165\n",
       "2018-08-26    1.000165\n",
       "2018-08-27    1.000165\n",
       "2018-08-28    1.001323\n",
       "2018-08-29    0.999670\n",
       "2018-08-30    0.998845\n",
       "2018-08-31    1.000330\n",
       "2018-09-01    1.000000\n",
       "2018-09-02         NaN\n",
       "2018-09-03         NaN\n",
       "2018-09-04         NaN\n",
       "2018-09-05         NaN\n",
       "2018-09-06         NaN\n",
       "Freq: D, Length: 1648, dtype: float64"
      ]
     },
     "execution_count": 173,
     "metadata": {},
     "output_type": "execute_result"
    }
   ],
   "source": [
    "((df[x]*months).sort_index(ascending=False).cumsum()/months.sort_index(ascending=False).cumsum())/df[x]"
   ]
  },
  {
   "cell_type": "code",
   "execution_count": 179,
   "metadata": {},
   "outputs": [
    {
     "data": {
      "text/plain": [
       "'file://C:\\\\PYTHON\\\\stock_analysis\\\\src\\\\temp-plot.html'"
      ]
     },
     "execution_count": 179,
     "metadata": {},
     "output_type": "execute_result"
    }
   ],
   "source": [
    "data = []\n",
    "\n",
    "for x in dfs_p:\n",
    "    data.append(go.Scatter(x=dfs_p[x].index, y=dfs_p[x], name=x))\n",
    "    \n",
    "py.plot(data)"
   ]
  },
  {
   "cell_type": "code",
   "execution_count": null,
   "metadata": {},
   "outputs": [],
   "source": []
  }
 ],
 "metadata": {
  "kernelspec": {
   "display_name": "Python 3",
   "language": "python",
   "name": "python3"
  },
  "language_info": {
   "codemirror_mode": {
    "name": "ipython",
    "version": 3
   },
   "file_extension": ".py",
   "mimetype": "text/x-python",
   "name": "python",
   "nbconvert_exporter": "python",
   "pygments_lexer": "ipython3",
   "version": "3.6.3"
  }
 },
 "nbformat": 4,
 "nbformat_minor": 2
}
