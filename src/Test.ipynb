{
 "cells": [
  {
   "cell_type": "code",
   "execution_count": 61,
   "metadata": {},
   "outputs": [],
   "source": [
    "def plot_indexa_api(df=None):\n",
    "    \"\"\" plot indexa calc \"\"\"\n",
    "    if df is not None:\n",
    "        df = pd.read_excel(URI_DF)\n",
    "\n",
    "    colors = {\"A\": \"orange\", \"B\": \"light blue\", \"C\": \"green\"}\n",
    "\n",
    "    data = []\n",
    "    for size, c_name in colors.items():\n",
    "        for x in range(10):\n",
    "            name = \"{}{}\".format(size, x + 1)\n",
    "            color = get_colors((c_name, max(50, x*100)))\n",
    "            data.append(go.Scatter(x=df.index, y=df[name], name=name, marker={\"color\": color}))\n",
    "\n",
    "    py.plot(data, filename=URI_PLOT)\n",
    "    print(\"Plot {} saved\".format(URI_PLOT))"
   ]
  }
 ],
 "metadata": {
  "kernelspec": {
   "display_name": "Python 3",
   "language": "python",
   "name": "python3"
  },
  "language_info": {
   "codemirror_mode": {
    "name": "ipython",
    "version": 3
   },
   "file_extension": ".py",
   "mimetype": "text/x-python",
   "name": "python",
   "nbconvert_exporter": "python",
   "pygments_lexer": "ipython3",
   "version": "3.6.3"
  }
 },
 "nbformat": 4,
 "nbformat_minor": 2
}
