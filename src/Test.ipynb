{
 "cells": [
  {
   "cell_type": "code",
   "execution_count": 14,
   "metadata": {},
   "outputs": [],
   "source": [
    "import pandas as pd\n",
    "\n",
    "from plotly.offline import plot as plot_plotly_raw\n",
    "from plotly.tools import make_subplots, FigureFactory as FF\n",
    "import plotly.graph_objs as go\n",
    "import plotly.offline as py"
   ]
  },
  {
   "cell_type": "code",
   "execution_count": 15,
   "metadata": {},
   "outputs": [],
   "source": [
    "df = pd.read_excel(\"../data/stocks.xlsx\", sheet_name=\"List\", index_col=1)\n",
    "stocks = df[\"Name\"].to_dict()"
   ]
  },
  {
   "cell_type": "code",
   "execution_count": 56,
   "metadata": {},
   "outputs": [],
   "source": [
    "dfg = pd.DataFrame()\n",
    "\n",
    "for stock in stocks.keys():\n",
    "    df = pd.read_excel(\"../data/data.xlsx\", sheet_name=stock, index_col=0)[[\"Close\"]]\n",
    "    df.columns = [stock]\n",
    "    \n",
    "    # Add data for all days\n",
    "    df_aux = pd.DataFrame(index=pd.date_range(df.index.min(), df.index.max()))\n",
    "    df = pd.concat([df_aux, df], axis=1).fillna(method='bfill')\n",
    "    \n",
    "    dfg = pd.concat([dfg, df], axis=1)\n",
    "    \n",
    "dfg.dropna(inplace=True)"
   ]
  },
  {
   "cell_type": "code",
   "execution_count": 89,
   "metadata": {},
   "outputs": [],
   "source": [
    "df = pd.DataFrame(dfg.index.day == 1, index=dfg.index)\n",
    "months = df[0].astype(int).cumsum()"
   ]
  },
  {
   "cell_type": "code",
   "execution_count": 58,
   "metadata": {},
   "outputs": [],
   "source": [
    "dist = pd.read_excel(\"../data/stocks.xlsx\", sheet_name=\"Distribution\", index_col=0).to_dict()"
   ]
  },
  {
   "cell_type": "code",
   "execution_count": 59,
   "metadata": {},
   "outputs": [],
   "source": [
    "last_v = dfg.iloc[-1, :]"
   ]
  },
  {
   "cell_type": "code",
   "execution_count": 116,
   "metadata": {},
   "outputs": [],
   "source": [
    "dfs = {}\n",
    "\n",
    "for i in range(1, 11):\n",
    "    df = dfg.copy()\n",
    "    \n",
    "    for x, perc in dist[i].items():\n",
    "        df[x] = perc*df[x]/100\n",
    "        \n",
    "    dfs[i] = 1/(df/last_v).sum(axis=1)"
   ]
  },
  {
   "cell_type": "code",
   "execution_count": 117,
   "metadata": {},
   "outputs": [
    {
     "data": {
      "text/plain": [
       "'file://C:\\\\PYTHON\\\\stock_analysis\\\\src\\\\temp-plot.html'"
      ]
     },
     "execution_count": 117,
     "metadata": {},
     "output_type": "execute_result"
    }
   ],
   "source": [
    "data = []\n",
    "\n",
    "for x in dfs:\n",
    "    data.append(go.Scatter(x=dfs[x].index, y=dfs[x], name=x))\n",
    "    \n",
    "py.plot(data)"
   ]
  },
  {
   "cell_type": "code",
   "execution_count": 54,
   "metadata": {},
   "outputs": [
    {
     "data": {
      "text/html": [
       "<div>\n",
       "<style scoped>\n",
       "    .dataframe tbody tr th:only-of-type {\n",
       "        vertical-align: middle;\n",
       "    }\n",
       "\n",
       "    .dataframe tbody tr th {\n",
       "        vertical-align: top;\n",
       "    }\n",
       "\n",
       "    .dataframe thead th {\n",
       "        text-align: right;\n",
       "    }\n",
       "</style>\n",
       "<table border=\"1\" class=\"dataframe\">\n",
       "  <thead>\n",
       "    <tr style=\"text-align: right;\">\n",
       "      <th></th>\n",
       "      <th>start</th>\n",
       "    </tr>\n",
       "  </thead>\n",
       "  <tbody>\n",
       "    <tr>\n",
       "      <th>2014-03-04</th>\n",
       "      <td>1.439600</td>\n",
       "    </tr>\n",
       "    <tr>\n",
       "      <th>2014-03-05</th>\n",
       "      <td>1.437429</td>\n",
       "    </tr>\n",
       "    <tr>\n",
       "      <th>2014-03-06</th>\n",
       "      <td>1.439965</td>\n",
       "    </tr>\n",
       "    <tr>\n",
       "      <th>2014-03-07</th>\n",
       "      <td>1.445122</td>\n",
       "    </tr>\n",
       "    <tr>\n",
       "      <th>2014-03-08</th>\n",
       "      <td>1.451524</td>\n",
       "    </tr>\n",
       "  </tbody>\n",
       "</table>\n",
       "</div>"
      ],
      "text/plain": [
       "               start\n",
       "2014-03-04  1.439600\n",
       "2014-03-05  1.437429\n",
       "2014-03-06  1.439965\n",
       "2014-03-07  1.445122\n",
       "2014-03-08  1.451524"
      ]
     },
     "execution_count": 54,
     "metadata": {},
     "output_type": "execute_result"
    }
   ],
   "source": [
    "pd.DataFrame(1/(df/last_v).sum(axis=1), columns=[\"start\"]).head()"
   ]
  },
  {
   "cell_type": "code",
   "execution_count": 113,
   "metadata": {},
   "outputs": [],
   "source": [
    "aux = df[\"LU0188800162\"]*months/(last_v[\"LU0188800162\"]*54)"
   ]
  },
  {
   "cell_type": "code",
   "execution_count": 114,
   "metadata": {},
   "outputs": [
    {
     "data": {
      "text/plain": [
       "'file://C:\\\\PYTHON\\\\stock_analysis\\\\src\\\\temp-plot.html'"
      ]
     },
     "execution_count": 114,
     "metadata": {},
     "output_type": "execute_result"
    }
   ],
   "source": [
    "py.plot([go.Scatter(x=aux.index, y=aux)])"
   ]
  },
  {
   "cell_type": "code",
   "execution_count": null,
   "metadata": {},
   "outputs": [],
   "source": []
  }
 ],
 "metadata": {
  "kernelspec": {
   "display_name": "Python 3",
   "language": "python",
   "name": "python3"
  },
  "language_info": {
   "codemirror_mode": {
    "name": "ipython",
    "version": 3
   },
   "file_extension": ".py",
   "mimetype": "text/x-python",
   "name": "python",
   "nbconvert_exporter": "python",
   "pygments_lexer": "ipython3",
   "version": "3.6.3"
  }
 },
 "nbformat": 4,
 "nbformat_minor": 2
}
